{
  "nbformat": 4,
  "nbformat_minor": 0,
  "metadata": {
    "colab": {
      "provenance": [],
      "gpuType": "T4",
      "authorship_tag": "ABX9TyMiLdQ932NNuJ9r4o/FcfMi",
      "include_colab_link": true
    },
    "kernelspec": {
      "name": "python3",
      "display_name": "Python 3"
    },
    "language_info": {
      "name": "python"
    },
    "accelerator": "GPU"
  },
  "cells": [
    {
      "cell_type": "markdown",
      "metadata": {
        "id": "view-in-github",
        "colab_type": "text"
      },
      "source": [
        "<a href=\"https://colab.research.google.com/github/rajatsaxena/Ephys/blob/master/pca_test.ipynb\" target=\"_parent\"><img src=\"https://colab.research.google.com/assets/colab-badge.svg\" alt=\"Open In Colab\"/></a>"
      ]
    },
    {
      "cell_type": "code",
      "execution_count": 1,
      "metadata": {
        "id": "SohQ2zuT5FGq"
      },
      "outputs": [],
      "source": [
        "import numpy as np\n",
        "import matplotlib.pyplot as plt\n",
        "from sklearn.decomposition import PCA\n",
        "from tensorflow.keras.datasets import mnist\n",
        "from tensorflow.keras.models import Sequential\n",
        "from tensorflow.keras.layers import Dense, Flatten"
      ]
    },
    {
      "cell_type": "code",
      "source": [
        "# Define a simple neural network\n",
        "def create_model():\n",
        "    model = Sequential([\n",
        "        Flatten(input_shape=(28, 28)),\n",
        "        Dense(128, activation='relu'),\n",
        "        Dense(64, activation='relu', name='penultimate_layer'),  # Penultimate layer\n",
        "        Dense(10, activation='softmax')\n",
        "    ])\n",
        "    model.compile(optimizer='adam', loss='sparse_categorical_crossentropy', metrics=['accuracy'])\n",
        "    return model"
      ],
      "metadata": {
        "id": "EUxSIaci5PQS"
      },
      "execution_count": 2,
      "outputs": []
    },
    {
      "cell_type": "code",
      "source": [
        "# Load MNIST dataset\n",
        "(x_train, y_train), (x_test, y_test) = mnist.load_data()\n",
        "x_train, x_test = x_train / 255.0, x_test / 255.0"
      ],
      "metadata": {
        "id": "b4haNyvA5HyV"
      },
      "execution_count": 3,
      "outputs": []
    },
    {
      "cell_type": "code",
      "source": [
        "# Function to filter dataset by classes\n",
        "def filter_by_classes(x, y, classes):\n",
        "    mask = np.isin(y, classes)\n",
        "    return x[mask], y[mask]"
      ],
      "metadata": {
        "id": "mWMbDX885J44"
      },
      "execution_count": 4,
      "outputs": []
    },
    {
      "cell_type": "code",
      "source": [
        "# Filter datasets\n",
        "x_train_2classes, y_train_2classes = filter_by_classes(x_train, y_train, [0, 1])\n",
        "x_test_2classes, y_test_2classes = filter_by_classes(x_test, y_test, [0, 1])\n",
        "\n",
        "x_train_4classes, y_train_4classes = filter_by_classes(x_train, y_train, [0, 1, 2, 3])\n",
        "x_test_4classes, y_test_4classes = filter_by_classes(x_test, y_test, [0, 1, 2, 3])\n",
        "\n",
        "x_train_6classes, y_train_6classes = filter_by_classes(x_train, y_train, [0, 1, 2, 3, 4, 5])\n",
        "x_test_6classes, y_test_6classes = filter_by_classes(x_test, y_test, [0, 1, 2, 3, 4, 5])\n",
        "\n",
        "x_train_8classes, y_train_8classes = filter_by_classes(x_train, y_train, [0, 1, 2, 3, 4, 5, 6, 7])\n",
        "x_test_8classes, y_test_8classes = filter_by_classes(x_test, y_test, [0, 1, 2, 3, 4, 5, 6, 7])\n",
        "\n",
        "x_train_10classes, y_train_10classes = filter_by_classes(x_train, y_train, range(10))\n",
        "x_test_10classes, y_test_10classes = filter_by_classes(x_test, y_test, range(10))"
      ],
      "metadata": {
        "id": "aHdAKRKk5Lxi"
      },
      "execution_count": 7,
      "outputs": []
    },
    {
      "cell_type": "code",
      "source": [
        "# Train models\n",
        "model_2classes = create_model()\n",
        "model_2classes.fit(x_train_2classes, y_train_2classes, epochs=5, validation_data=(x_test_2classes, y_test_2classes), verbose=1)\n",
        "\n",
        "model_4classes = create_model()\n",
        "model_4classes.fit(x_train_4classes, y_train_4classes, epochs=5, validation_data=(x_test_4classes, y_test_4classes), verbose=1)\n",
        "\n",
        "model_6classes = create_model()\n",
        "model_6classes.fit(x_train_6classes, y_train_6classes, epochs=7, validation_data=(x_test_6classes, y_test_6classes), verbose=1)\n",
        "\n",
        "model_8classes = create_model()\n",
        "model_8classes.fit(x_train_8classes, y_train_8classes, epochs=8, validation_data=(x_test_8classes, y_test_8classes), verbose=1)\n",
        "\n",
        "model_10classes = create_model()\n",
        "model_10classes.fit(x_train_10classes, y_train_10classes, epochs=15, validation_data=(x_test_10classes, y_test_10classes), verbose=1)"
      ],
      "metadata": {
        "colab": {
          "base_uri": "https://localhost:8080/"
        },
        "id": "ywEeOFMA5T1l",
        "outputId": "73781521-912e-4997-ad67-d96571087a7f"
      },
      "execution_count": 8,
      "outputs": [
        {
          "output_type": "stream",
          "name": "stdout",
          "text": [
            "Epoch 1/5\n",
            "396/396 [==============================] - 2s 4ms/step - loss: 0.0377 - accuracy: 0.9939 - val_loss: 0.0013 - val_accuracy: 0.9995\n",
            "Epoch 2/5\n",
            "396/396 [==============================] - 1s 3ms/step - loss: 0.0039 - accuracy: 0.9986 - val_loss: 0.0030 - val_accuracy: 0.9991\n",
            "Epoch 3/5\n",
            "396/396 [==============================] - 1s 3ms/step - loss: 0.0037 - accuracy: 0.9991 - val_loss: 0.0016 - val_accuracy: 0.9995\n",
            "Epoch 4/5\n",
            "396/396 [==============================] - 2s 4ms/step - loss: 0.0017 - accuracy: 0.9994 - val_loss: 0.0015 - val_accuracy: 0.9991\n",
            "Epoch 5/5\n",
            "396/396 [==============================] - 2s 5ms/step - loss: 3.7356e-04 - accuracy: 1.0000 - val_loss: 0.0025 - val_accuracy: 0.9995\n",
            "Epoch 1/5\n",
            "774/774 [==============================] - 4s 4ms/step - loss: 0.1101 - accuracy: 0.9670 - val_loss: 0.0328 - val_accuracy: 0.9887\n",
            "Epoch 2/5\n",
            "774/774 [==============================] - 3s 3ms/step - loss: 0.0373 - accuracy: 0.9877 - val_loss: 0.0253 - val_accuracy: 0.9918\n",
            "Epoch 3/5\n",
            "774/774 [==============================] - 3s 3ms/step - loss: 0.0221 - accuracy: 0.9925 - val_loss: 0.0252 - val_accuracy: 0.9904\n",
            "Epoch 4/5\n",
            "774/774 [==============================] - 3s 4ms/step - loss: 0.0155 - accuracy: 0.9953 - val_loss: 0.0169 - val_accuracy: 0.9935\n",
            "Epoch 5/5\n",
            "774/774 [==============================] - 3s 4ms/step - loss: 0.0140 - accuracy: 0.9953 - val_loss: 0.0129 - val_accuracy: 0.9942\n",
            "Epoch 1/7\n",
            "1126/1126 [==============================] - 6s 4ms/step - loss: 0.1535 - accuracy: 0.9546 - val_loss: 0.0550 - val_accuracy: 0.9819\n",
            "Epoch 2/7\n",
            "1126/1126 [==============================] - 4s 4ms/step - loss: 0.0536 - accuracy: 0.9836 - val_loss: 0.0436 - val_accuracy: 0.9864\n",
            "Epoch 3/7\n",
            "1126/1126 [==============================] - 4s 3ms/step - loss: 0.0329 - accuracy: 0.9894 - val_loss: 0.0316 - val_accuracy: 0.9901\n",
            "Epoch 4/7\n",
            "1126/1126 [==============================] - 5s 4ms/step - loss: 0.0238 - accuracy: 0.9925 - val_loss: 0.0344 - val_accuracy: 0.9877\n",
            "Epoch 5/7\n",
            "1126/1126 [==============================] - 4s 4ms/step - loss: 0.0180 - accuracy: 0.9939 - val_loss: 0.0478 - val_accuracy: 0.9859\n",
            "Epoch 6/7\n",
            "1126/1126 [==============================] - 4s 4ms/step - loss: 0.0138 - accuracy: 0.9954 - val_loss: 0.0315 - val_accuracy: 0.9891\n",
            "Epoch 7/7\n",
            "1126/1126 [==============================] - 5s 4ms/step - loss: 0.0111 - accuracy: 0.9960 - val_loss: 0.0324 - val_accuracy: 0.9896\n",
            "Epoch 1/8\n",
            "1507/1507 [==============================] - 6s 3ms/step - loss: 0.1710 - accuracy: 0.9508 - val_loss: 0.0814 - val_accuracy: 0.9759\n",
            "Epoch 2/8\n",
            "1507/1507 [==============================] - 5s 3ms/step - loss: 0.0666 - accuracy: 0.9795 - val_loss: 0.0639 - val_accuracy: 0.9808\n",
            "Epoch 3/8\n",
            "1507/1507 [==============================] - 6s 4ms/step - loss: 0.0459 - accuracy: 0.9845 - val_loss: 0.0531 - val_accuracy: 0.9824\n",
            "Epoch 4/8\n",
            "1507/1507 [==============================] - 5s 3ms/step - loss: 0.0333 - accuracy: 0.9891 - val_loss: 0.0528 - val_accuracy: 0.9834\n",
            "Epoch 5/8\n",
            "1507/1507 [==============================] - 6s 4ms/step - loss: 0.0242 - accuracy: 0.9920 - val_loss: 0.0565 - val_accuracy: 0.9827\n",
            "Epoch 6/8\n",
            "1507/1507 [==============================] - 5s 3ms/step - loss: 0.0202 - accuracy: 0.9932 - val_loss: 0.0633 - val_accuracy: 0.9830\n",
            "Epoch 7/8\n",
            "1507/1507 [==============================] - 6s 4ms/step - loss: 0.0170 - accuracy: 0.9941 - val_loss: 0.0607 - val_accuracy: 0.9844\n",
            "Epoch 8/8\n",
            "1507/1507 [==============================] - 5s 3ms/step - loss: 0.0161 - accuracy: 0.9947 - val_loss: 0.0580 - val_accuracy: 0.9858\n",
            "Epoch 1/15\n",
            "1875/1875 [==============================] - 8s 4ms/step - loss: 0.2438 - accuracy: 0.9286 - val_loss: 0.1293 - val_accuracy: 0.9599\n",
            "Epoch 2/15\n",
            "1875/1875 [==============================] - 6s 3ms/step - loss: 0.1036 - accuracy: 0.9688 - val_loss: 0.0882 - val_accuracy: 0.9739\n",
            "Epoch 3/15\n",
            "1875/1875 [==============================] - 7s 4ms/step - loss: 0.0718 - accuracy: 0.9774 - val_loss: 0.0797 - val_accuracy: 0.9757\n",
            "Epoch 4/15\n",
            "1875/1875 [==============================] - 6s 3ms/step - loss: 0.0554 - accuracy: 0.9821 - val_loss: 0.0790 - val_accuracy: 0.9749\n",
            "Epoch 5/15\n",
            "1875/1875 [==============================] - 7s 4ms/step - loss: 0.0434 - accuracy: 0.9858 - val_loss: 0.0807 - val_accuracy: 0.9765\n",
            "Epoch 6/15\n",
            "1875/1875 [==============================] - 6s 3ms/step - loss: 0.0342 - accuracy: 0.9888 - val_loss: 0.0849 - val_accuracy: 0.9770\n",
            "Epoch 7/15\n",
            "1875/1875 [==============================] - 7s 4ms/step - loss: 0.0302 - accuracy: 0.9900 - val_loss: 0.0945 - val_accuracy: 0.9741\n",
            "Epoch 8/15\n",
            "1875/1875 [==============================] - 6s 3ms/step - loss: 0.0242 - accuracy: 0.9922 - val_loss: 0.0769 - val_accuracy: 0.9795\n",
            "Epoch 9/15\n",
            "1875/1875 [==============================] - 7s 4ms/step - loss: 0.0208 - accuracy: 0.9931 - val_loss: 0.0907 - val_accuracy: 0.9772\n",
            "Epoch 10/15\n",
            "1875/1875 [==============================] - 6s 3ms/step - loss: 0.0184 - accuracy: 0.9941 - val_loss: 0.0904 - val_accuracy: 0.9794\n",
            "Epoch 11/15\n",
            "1875/1875 [==============================] - 7s 4ms/step - loss: 0.0172 - accuracy: 0.9942 - val_loss: 0.0984 - val_accuracy: 0.9780\n",
            "Epoch 12/15\n",
            "1875/1875 [==============================] - 6s 3ms/step - loss: 0.0143 - accuracy: 0.9951 - val_loss: 0.1081 - val_accuracy: 0.9781\n",
            "Epoch 13/15\n",
            "1875/1875 [==============================] - 7s 4ms/step - loss: 0.0147 - accuracy: 0.9951 - val_loss: 0.0994 - val_accuracy: 0.9787\n",
            "Epoch 14/15\n",
            "1875/1875 [==============================] - 6s 3ms/step - loss: 0.0128 - accuracy: 0.9956 - val_loss: 0.0954 - val_accuracy: 0.9799\n",
            "Epoch 15/15\n",
            "1875/1875 [==============================] - 7s 3ms/step - loss: 0.0116 - accuracy: 0.9962 - val_loss: 0.0928 - val_accuracy: 0.9794\n"
          ]
        },
        {
          "output_type": "execute_result",
          "data": {
            "text/plain": [
              "<keras.src.callbacks.History at 0x7db0a95a18d0>"
            ]
          },
          "metadata": {},
          "execution_count": 8
        }
      ]
    },
    {
      "cell_type": "code",
      "source": [
        "# Extract activations from the penultimate layer\n",
        "from tensorflow.keras.models import Model\n",
        "\n",
        "def get_penultimate_activations(model, data):\n",
        "    intermediate_layer_model = Model(inputs=model.input, outputs=model.get_layer('penultimate_layer').output)\n",
        "    return intermediate_layer_model.predict(data)"
      ],
      "metadata": {
        "id": "MHWDzDIQ5UZq"
      },
      "execution_count": 9,
      "outputs": []
    },
    {
      "cell_type": "code",
      "source": [
        "activations_2classes = get_penultimate_activations(model_2classes, x_test_2classes)\n",
        "activations_4classes = get_penultimate_activations(model_4classes, x_test_4classes)\n",
        "activations_6classes = get_penultimate_activations(model_6classes, x_test_6classes)\n",
        "activations_8classes = get_penultimate_activations(model_8classes, x_test_8classes)\n",
        "activations_10classes = get_penultimate_activations(model_10classes, x_test_10classes)"
      ],
      "metadata": {
        "colab": {
          "base_uri": "https://localhost:8080/"
        },
        "id": "I3CXlJhF5YQP",
        "outputId": "794c93c3-b77f-4567-fe83-313a4a945b89"
      },
      "execution_count": 10,
      "outputs": [
        {
          "output_type": "stream",
          "name": "stdout",
          "text": [
            "67/67 [==============================] - 0s 1ms/step\n",
            "130/130 [==============================] - 0s 1ms/step\n",
            "189/189 [==============================] - 0s 1ms/step\n",
            "251/251 [==============================] - 0s 1ms/step\n",
            "313/313 [==============================] - 0s 1ms/step\n"
          ]
        }
      ]
    },
    {
      "cell_type": "code",
      "source": [
        "# Perform PCA on the activations\n",
        "def plot_scree(activations, title):\n",
        "    pca = PCA()\n",
        "    pca.fit(activations)\n",
        "    explained_variance = pca.explained_variance_ratio_\n",
        "\n",
        "    plt.plot(np.cumsum(explained_variance), label=title)\n",
        "    plt.xlabel('Number of Components')\n",
        "    plt.ylabel('Cumulative Explained Variance')"
      ],
      "metadata": {
        "id": "UOKloHVZ5ZaR"
      },
      "execution_count": 16,
      "outputs": []
    },
    {
      "cell_type": "code",
      "source": [
        "plt.figure()\n",
        "plot_scree(activations_2classes, 'N=2')\n",
        "plot_scree(activations_4classes, 'N=4')\n",
        "plot_scree(activations_6classes, 'N=6')\n",
        "plot_scree(activations_8classes, 'N=8')\n",
        "plot_scree(activations_10classes, 'N=10')\n",
        "plt.legend()\n",
        "plt.show()"
      ],
      "metadata": {
        "colab": {
          "base_uri": "https://localhost:8080/",
          "height": 449
        },
        "id": "sE84MXdm5bQg",
        "outputId": "a56fe9cf-0ef2-455f-885a-bdfe8c568846"
      },
      "execution_count": 17,
      "outputs": [
        {
          "output_type": "display_data",
          "data": {
            "text/plain": [
              "<Figure size 640x480 with 1 Axes>"
            ],
            "image/png": "[encoded data removed]"
          },
          "metadata": {}
        }
      ]
    }
  ]
}